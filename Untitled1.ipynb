{
  "nbformat": 4,
  "nbformat_minor": 0,
  "metadata": {
    "colab": {
      "name": "Untitled1.ipynb",
      "provenance": [],
      "authorship_tag": "ABX9TyOsFGpCEMkwWFN+8XdeWSnR",
      "include_colab_link": true
    },
    "kernelspec": {
      "name": "python3",
      "display_name": "Python 3"
    },
    "language_info": {
      "name": "python"
    }
  },
  "cells": [
    {
      "cell_type": "markdown",
      "metadata": {
        "id": "view-in-github",
        "colab_type": "text"
      },
      "source": [
        "<a href=\"https://colab.research.google.com/github/JSzczpin/Kurs/blob/main/Untitled1.ipynb\" target=\"_parent\"><img src=\"https://colab.research.google.com/assets/colab-badge.svg\" alt=\"Open In Colab\"/></a>"
      ]
    },
    {
      "cell_type": "code",
      "metadata": {
        "id": "uHY04shVK118"
      },
      "source": [
        "###Czy rok jest przestępny?"
      ],
      "execution_count": null,
      "outputs": []
    },
    {
      "cell_type": "markdown",
      "metadata": {
        "id": "aP8xafwzK0eF"
      },
      "source": [
        ""
      ]
    },
    {
      "cell_type": "code",
      "metadata": {
        "colab": {
          "base_uri": "https://localhost:8080/"
        },
        "id": "XW4djhzoKylD",
        "outputId": "9695792c-9585-4080-f6e4-3abf4b49a5ef"
      },
      "source": [
        "print('Witaj w sprawdzaczu roku przestępnego!')\n",
        "year = int(input('Wpisz rok: '))\n",
        "\n",
        "if year % 4 != 0:\n",
        "  print(f'Rok {year} to nie jest rok przestępny')\n",
        "elif year % 100 !=0:\n",
        "  print(f'Rok {year} jest rokiem przestepnym')\n",
        "elif year % 400 != 0:\n",
        "  print(f'Rok {year} to nie jest rok przestępny')\n",
        "else:\n",
        "  print(f'Rok {year} jest rokiem przestepnym')"
      ],
      "execution_count": 7,
      "outputs": [
        {
          "output_type": "stream",
          "text": [
            "Witaj w sprawdzaczu roku przestępnego!\n",
            "Wpisz rok: 2002\n",
            "Rok 2002 to nie jest rok przestępny\n"
          ],
          "name": "stdout"
        }
      ]
    },
    {
      "cell_type": "code",
      "metadata": {
        "id": "n3WRJ5ggMu8v"
      },
      "source": [
        ""
      ],
      "execution_count": null,
      "outputs": []
    }
  ]
}